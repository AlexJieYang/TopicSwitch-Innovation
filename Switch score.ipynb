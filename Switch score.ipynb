{
 "cells": [
  {
   "cell_type": "code",
   "execution_count": 1,
   "id": "b3eb1105-8006-47ad-a869-7394b1eee7b4",
   "metadata": {
    "execution": {
     "iopub.execute_input": "2024-02-26T05:19:30.363082Z",
     "iopub.status.busy": "2024-02-26T05:19:30.363082Z",
     "iopub.status.idle": "2024-02-26T05:19:31.393999Z",
     "shell.execute_reply": "2024-02-26T05:19:31.393999Z",
     "shell.execute_reply.started": "2024-02-26T05:19:30.363082Z"
    }
   },
   "outputs": [],
   "source": [
    "#Author Alex J. Yang, alexjieyang@outlook.com\n",
    "import numpy as np\n",
    "import pandas as pd\n",
    "import itertools\n",
    "import scipy.stats\n",
    "import seaborn as sns\n",
    "import matplotlib.pyplot as plt\n",
    "import statsmodels.api as sm\n",
    "from tqdm import tqdm\n",
    "\n",
    "def bootstrapped(data,n_resamples = 50):\n",
    "    data = (data,)\n",
    "    bootstrap_ci = scipy.stats.bootstrap(data, np.mean, confidence_level=0.95,n_resamples=n_resamples,\n",
    "                         random_state=1, method='percentile')\n",
    "    return bootstrap_ci.confidence_interval"
   ]
  },
  {
   "cell_type": "code",
   "execution_count": 2,
   "id": "57ba9947-543f-4272-8842-80d30bc1a68a",
   "metadata": {
    "execution": {
     "iopub.execute_input": "2024-02-26T05:19:31.394998Z",
     "iopub.status.busy": "2024-02-26T05:19:31.394998Z",
     "iopub.status.idle": "2024-02-26T05:19:31.397288Z",
     "shell.execute_reply": "2024-02-26T05:19:31.397288Z",
     "shell.execute_reply.started": "2024-02-26T05:19:31.394998Z"
    }
   },
   "outputs": [],
   "source": [
    "import gc"
   ]
  },
  {
   "cell_type": "markdown",
   "id": "e5ca6383-c302-443d-94ff-592a8b405bd7",
   "metadata": {},
   "source": [
    "# switch"
   ]
  },
  {
   "cell_type": "code",
   "execution_count": 4,
   "id": "d9476029-bff4-4e94-8239-c2451e0b6d48",
   "metadata": {
    "execution": {
     "iopub.execute_input": "2024-02-22T10:17:53.748732Z",
     "iopub.status.busy": "2024-02-22T10:17:53.748732Z",
     "iopub.status.idle": "2024-02-22T10:19:06.533989Z",
     "shell.execute_reply": "2024-02-22T10:19:06.533989Z",
     "shell.execute_reply.started": "2024-02-22T10:17:53.748732Z"
    }
   },
   "outputs": [],
   "source": [
    "pub2author = pd.read_csv(r'E:\\NETDATA\\SciSciNet\\1950-2020\\Author_Paper_1stlast.csv.zip' , usecols=['AuthorID','PaperID','Year'])\n",
    "pub2author.columns = ['PublicationId','AuthorId','Year']"
   ]
  },
  {
   "cell_type": "code",
   "execution_count": 7,
   "id": "ceef2858-b789-4559-a8d6-1565d91443ef",
   "metadata": {
    "execution": {
     "iopub.execute_input": "2024-02-22T10:19:46.970763Z",
     "iopub.status.busy": "2024-02-22T10:19:46.969746Z",
     "iopub.status.idle": "2024-02-22T10:24:28.066232Z",
     "shell.execute_reply": "2024-02-22T10:24:28.066232Z",
     "shell.execute_reply.started": "2024-02-22T10:19:46.970763Z"
    }
   },
   "outputs": [],
   "source": [
    "pub2ref = pd.read_csv(r'E:\\Data\\SciSciNet\\SciSciNet_Paper_References.csv.zip')\n",
    "pub2ref.columns = ['CitingPublicationId', 'CitedPublicationId']"
   ]
  },
  {
   "cell_type": "code",
   "execution_count": 8,
   "id": "d5c9809b-f6b7-4350-aa46-1a4efe8f4d4f",
   "metadata": {
    "execution": {
     "iopub.execute_input": "2024-02-22T10:24:28.068387Z",
     "iopub.status.busy": "2024-02-22T10:24:28.068236Z",
     "iopub.status.idle": "2024-02-22T10:25:06.415523Z",
     "shell.execute_reply": "2024-02-22T10:25:06.413514Z",
     "shell.execute_reply.started": "2024-02-22T10:24:28.068387Z"
    }
   },
   "outputs": [],
   "source": [
    "pub2ref = pub2ref[pub2ref['CitingPublicationId'].isin(pub2author['PublicationId'].values)]\n",
    "pub2ref.dropna(inplace = True)"
   ]
  },
  {
   "cell_type": "code",
   "execution_count": 9,
   "id": "9c874007-22e1-46f0-9ba7-5a505e58ae0f",
   "metadata": {
    "execution": {
     "iopub.execute_input": "2024-02-22T10:25:06.418832Z",
     "iopub.status.busy": "2024-02-22T10:25:06.417731Z",
     "iopub.status.idle": "2024-02-22T10:29:38.741722Z",
     "shell.execute_reply": "2024-02-22T10:29:38.741722Z",
     "shell.execute_reply.started": "2024-02-22T10:25:06.418832Z"
    }
   },
   "outputs": [
    {
     "data": {
      "text/plain": [
       "583"
      ]
     },
     "execution_count": 9,
     "metadata": {},
     "output_type": "execute_result"
    }
   ],
   "source": [
    "pub2j = pd.read_csv(r'E:\\Data\\SciSciNet\\SciSciNet_Papers.zip' , sep='\\t', usecols=['PaperID','JournalID'])\n",
    "pub2ref['CitedJournalId'] = pub2ref['CitedPublicationId'].map(pub2j.set_index('PaperID')['JournalID'])\n",
    "del pub2j\n",
    "pub2ref.dropna(inplace = True)\n",
    "gc.collect()"
   ]
  },
  {
   "cell_type": "code",
   "execution_count": 14,
   "id": "c11e7fba-87b6-45ca-a703-9c13e93c8753",
   "metadata": {
    "execution": {
     "iopub.execute_input": "2024-02-22T10:32:51.692390Z",
     "iopub.status.busy": "2024-02-22T10:32:51.691387Z",
     "iopub.status.idle": "2024-02-22T11:04:09.878393Z",
     "shell.execute_reply": "2024-02-22T11:04:09.878393Z",
     "shell.execute_reply.started": "2024-02-22T10:32:51.692390Z"
    }
   },
   "outputs": [],
   "source": [
    "previous_k=None\n",
    "year_window=3\n",
    "pub2refjournalcounts = groupby_count(pub2ref, ['CitingPublicationId', 'CitedJournalId'], \n",
    "                                          'CitedPublicationId', count_unique=True)\n",
    "pub2refjournalcounts.rename(columns={'CitedPublicationIdCount':'CitedJournalCount'}, inplace=True)\n",
    "\n",
    "pub2refjournalcounts.columns = ['PublicationId', 'CitedJournalId', 'CitedJournalCount']"
   ]
  },
  {
   "cell_type": "code",
   "execution_count": 16,
   "id": "6b1f1f1f-d704-4ca2-bfc0-04d159aff9fd",
   "metadata": {
    "execution": {
     "iopub.execute_input": "2024-02-22T11:04:10.996640Z",
     "iopub.status.busy": "2024-02-22T11:04:10.995640Z",
     "iopub.status.idle": "2024-02-22T11:05:18.887465Z",
     "shell.execute_reply": "2024-02-22T11:05:18.886452Z",
     "shell.execute_reply.started": "2024-02-22T11:04:10.996640Z"
    },
    "scrolled": true
   },
   "outputs": [],
   "source": [
    "pa_refs = pd.merge(pub2author, pub2refjournalcounts, how='left', on = 'PublicationId')"
   ]
  },
  {
   "cell_type": "code",
   "execution_count": 18,
   "id": "44566452-f3ab-4701-8aa7-eebaf0640e52",
   "metadata": {
    "execution": {
     "iopub.execute_input": "2024-02-22T11:05:19.655164Z",
     "iopub.status.busy": "2024-02-22T11:05:19.655164Z",
     "iopub.status.idle": "2024-02-22T11:11:38.462911Z",
     "shell.execute_reply": "2024-02-22T11:11:38.461902Z",
     "shell.execute_reply.started": "2024-02-22T11:05:19.655164Z"
    }
   },
   "outputs": [],
   "source": [
    "# pa_refs.dropna(inplace=True)\n",
    "# pa_refs['CitedJournalId'] = pa_refs['CitedJournalId'].astype(int)\n",
    "pa_refs.sort_values(by=['AuthorId', 'Year', 'PublicationId', 'CitedJournalId'], inplace=True)\n",
    "pa_refs.reset_index(drop=True, inplace=True)"
   ]
  },
  {
   "cell_type": "code",
   "execution_count": 20,
   "id": "0dd2e594-f31b-4da6-a090-73cf209b3259",
   "metadata": {
    "execution": {
     "iopub.execute_input": "2024-02-22T11:11:38.738879Z",
     "iopub.status.busy": "2024-02-22T11:11:38.737881Z",
     "iopub.status.idle": "2024-02-22T17:34:32.623428Z",
     "shell.execute_reply": "2024-02-22T17:34:32.623428Z",
     "shell.execute_reply.started": "2024-02-22T11:11:38.738879Z"
    }
   },
   "outputs": [],
   "source": [
    "pscore = pa_refs.groupby('AuthorId').apply(author_switch).reset_index()\n",
    "del pscore['level_1']"
   ]
  },
  {
   "cell_type": "markdown",
   "id": "729431d6-fc1a-4588-a6c8-e72c2ad34e76",
   "metadata": {},
   "source": [
    "## switch Functions"
   ]
  },
  {
   "cell_type": "code",
   "execution_count": 10,
   "id": "5efed214-724e-49c3-8b1e-21abd3a2f7b2",
   "metadata": {
    "execution": {
     "iopub.execute_input": "2024-02-22T10:29:38.743409Z",
     "iopub.status.busy": "2024-02-22T10:29:38.742885Z",
     "iopub.status.idle": "2024-02-22T10:29:38.747663Z",
     "shell.execute_reply": "2024-02-22T10:29:38.747663Z",
     "shell.execute_reply.started": "2024-02-22T10:29:38.743409Z"
    }
   },
   "outputs": [],
   "source": [
    "def author_switch(authordf):\n",
    "    pubgroups = authordf.groupby('PublicationId', sort=False)\n",
    "    allpubidx = None\n",
    "    if not previous_k is None:\n",
    "        allpubidx = changepoint(authordf['PublicationId'].values)\n",
    "    switchresults = []\n",
    "    def publication_switch(pubgroup):\n",
    "        pubidx = pubgroup.index[0]\n",
    "        pid = pubgroup.name\n",
    "        if pubidx==0: switchresults.append([pid, None])\n",
    "        else:\n",
    "            i=len(switchresults)\n",
    "            if not previous_k is None and i > previous_k:\n",
    "                history = authordf.iloc[allpubidx[i-previous_k]:pubidx]\n",
    "            else:\n",
    "                history = authordf.iloc[:pubidx]\n",
    "            if not year_window is None:\n",
    "                history = history[history['Year'] >= pubgroup['Year'].values[0] - year_window]\n",
    "            if history.shape[0] > 0:\n",
    "                history = history.groupby('CitedJournalId', sort=False, as_index=False)['CitedJournalCount'].sum()\n",
    "                cosine = pandas_cosine_similarity(history, pubgroup, col_keys='CitedJournalId', col_values='CitedJournalCount')\n",
    "                switchresults.append([pid, cosine])\n",
    "            else:\n",
    "                switchresults.append([pid, None])\n",
    "    pubgroups.apply(publication_switch)\n",
    "    return pd.DataFrame(switchresults, columns=['PublicationId', 'switchScore'])"
   ]
  },
  {
   "cell_type": "code",
   "execution_count": 11,
   "id": "49c86995-dcc0-42c5-b877-fce765d3aedb",
   "metadata": {
    "execution": {
     "iopub.execute_input": "2024-02-22T10:29:38.748130Z",
     "iopub.status.busy": "2024-02-22T10:29:38.748130Z",
     "iopub.status.idle": "2024-02-22T10:29:38.751543Z",
     "shell.execute_reply": "2024-02-22T10:29:38.751543Z",
     "shell.execute_reply.started": "2024-02-22T10:29:38.748130Z"
    }
   },
   "outputs": [],
   "source": [
    "def groupby_count(df, colgroupby, colcountby, count_unique=True):\n",
    "    newname_dict = zip2dict([str(colcountby), '0'], [str(colcountby)+'Count']*2)\n",
    "    if count_unique:\n",
    "        count = df.groupby(colgroupby, sort=False, as_index=False)[colcountby].nunique()\n",
    "    else:\n",
    "        count = df.groupby(colgroupby, sort=False, as_index=False)[colcountby].count()\n",
    "    return count.rename(columns=newname_dict)"
   ]
  },
  {
   "cell_type": "code",
   "execution_count": 12,
   "id": "8305ca80-b3ad-4cae-a4bb-6eeb6e26a344",
   "metadata": {
    "execution": {
     "iopub.execute_input": "2024-02-22T10:29:38.751543Z",
     "iopub.status.busy": "2024-02-22T10:29:38.751543Z",
     "iopub.status.idle": "2024-02-22T10:29:38.755009Z",
     "shell.execute_reply": "2024-02-22T10:29:38.754663Z",
     "shell.execute_reply.started": "2024-02-22T10:29:38.751543Z"
    }
   },
   "outputs": [],
   "source": [
    "def zip2dict(keys, values):\n",
    "    return dict(zip(keys, values))\n",
    "\n",
    "def changepoint(a):\n",
    "    return np.concatenate([[0], np.where(a[:-1] != a[1:])[0] + 1, [a.shape[0]]])"
   ]
  },
  {
   "cell_type": "code",
   "execution_count": 13,
   "id": "963f342c-5ff2-4b37-a4e4-b64d36ffdcac",
   "metadata": {
    "execution": {
     "iopub.execute_input": "2024-02-22T10:29:38.755654Z",
     "iopub.status.busy": "2024-02-22T10:29:38.755654Z",
     "iopub.status.idle": "2024-02-22T10:29:38.760140Z",
     "shell.execute_reply": "2024-02-22T10:29:38.759639Z",
     "shell.execute_reply.started": "2024-02-22T10:29:38.755654Z"
    }
   },
   "outputs": [],
   "source": [
    "def pandas_cosine_similarity(df1, df2, col_keys, col_values):\n",
    "    search_index = np.searchsorted(df2[col_keys].values, df1[col_keys].values, side = 'left')\n",
    "    search_index[search_index >= df2.shape[0]] = df2.shape[0] - 1\n",
    "    isin = df1[col_keys].values == df2[col_keys].values[search_index]\n",
    "    cosine_num = np.inner(df1[col_values].values[isin], df2[col_values].values[search_index[isin]])\n",
    "    cosine_denom = np.linalg.norm(df1[col_values].values) * np.linalg.norm(df2[col_values].values)\n",
    "    return 1.0 - cosine_num/cosine_denom"
   ]
  }
 ],
 "metadata": {
  "kernelspec": {
   "display_name": "Python 3 (ipykernel)",
   "language": "python",
   "name": "python3"
  },
  "language_info": {
   "codemirror_mode": {
    "name": "ipython",
    "version": 3
   },
   "file_extension": ".py",
   "mimetype": "text/x-python",
   "name": "python",
   "nbconvert_exporter": "python",
   "pygments_lexer": "ipython3",
   "version": "3.11.5"
  }
 },
 "nbformat": 4,
 "nbformat_minor": 5
}
